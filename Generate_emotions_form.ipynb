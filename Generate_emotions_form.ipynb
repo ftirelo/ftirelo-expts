{
  "nbformat": 4,
  "nbformat_minor": 0,
  "metadata": {
    "colab": {
      "provenance": [],
      "mount_file_id": "1kK6JQhNGjn-d66Ab7FweKRMTNO5tiVje",
      "authorship_tag": "ABX9TyNwr2hmfZgPARnlcMqtI/Bc",
      "include_colab_link": true
    },
    "kernelspec": {
      "name": "python3",
      "display_name": "Python 3"
    },
    "language_info": {
      "name": "python"
    }
  },
  "cells": [
    {
      "cell_type": "markdown",
      "metadata": {
        "id": "view-in-github",
        "colab_type": "text"
      },
      "source": [
        "<a href=\"https://colab.research.google.com/github/ftirelo/ftirelo-expts/blob/main/Generate_emotions_form.ipynb\" target=\"_parent\"><img src=\"https://colab.research.google.com/assets/colab-badge.svg\" alt=\"Open In Colab\"/></a>"
      ]
    },
    {
      "cell_type": "code",
      "source": [
        "#@title Pip installs\n",
        "\n",
        "!pip install pyyaml==6.0"
      ],
      "metadata": {
        "cellView": "form",
        "id": "xgBT-jZO9ese",
        "colab": {
          "base_uri": "https://localhost:8080/"
        },
        "outputId": "ee50d25a-d8b4-428a-a6b4-5cd219483a06"
      },
      "execution_count": 1,
      "outputs": [
        {
          "output_type": "stream",
          "name": "stdout",
          "text": [
            "Collecting pyyaml==6.0\n",
            "  Downloading PyYAML-6.0-cp310-cp310-manylinux_2_5_x86_64.manylinux1_x86_64.manylinux_2_12_x86_64.manylinux2010_x86_64.whl.metadata (2.0 kB)\n",
            "Downloading PyYAML-6.0-cp310-cp310-manylinux_2_5_x86_64.manylinux1_x86_64.manylinux_2_12_x86_64.manylinux2010_x86_64.whl (682 kB)\n",
            "\u001b[2K   \u001b[90m━━━━━━━━━━━━━━━━━━━━━━━━━━━━━━━━━━━━━━━━\u001b[0m \u001b[32m682.2/682.2 kB\u001b[0m \u001b[31m4.1 MB/s\u001b[0m eta \u001b[36m0:00:00\u001b[0m\n",
            "\u001b[?25hInstalling collected packages: pyyaml\n",
            "  Attempting uninstall: pyyaml\n",
            "    Found existing installation: PyYAML 6.0.2\n",
            "    Uninstalling PyYAML-6.0.2:\n",
            "      Successfully uninstalled PyYAML-6.0.2\n",
            "Successfully installed pyyaml-6.0\n"
          ]
        }
      ]
    },
    {
      "cell_type": "code",
      "source": [
        "#@title Imports\n",
        "\n",
        "from __future__ import print_function\n",
        "\n",
        "import re\n",
        "import yaml\n",
        "\n",
        "from google.colab import auth\n",
        "from googleapiclient.discovery import build\n"
      ],
      "metadata": {
        "cellView": "form",
        "id": "Yct8BnpT1PzO"
      },
      "execution_count": 2,
      "outputs": []
    },
    {
      "cell_type": "code",
      "source": [
        "#@title Authenticate and create services\n",
        "\n",
        "PROJECT_ID = 'project-tracking-336cd'  #@param\n",
        "\n",
        "# os.environ['GOOGLE_CLOUD_PROJECT'] = 'project-tracking-336cd'\n",
        "auth.authenticate_user(project_id=PROJECT_ID)\n",
        "\n",
        "drive_service = build('drive', 'v3')\n",
        "forms_service = build('forms', 'v1')\n"
      ],
      "metadata": {
        "cellView": "form",
        "id": "Ja1K0ekt3qy8"
      },
      "execution_count": 3,
      "outputs": []
    },
    {
      "cell_type": "code",
      "source": [
        "#@title Google Forms functions\n",
        "\n",
        "def create_form(title, description):\n",
        "  new_form = {\n",
        "      'info': {\n",
        "          'title': title,\n",
        "          'document_title': title\n",
        "      }\n",
        "  }\n",
        "  result = forms_service.forms().create(body=new_form).execute()\n",
        "  form_id = result['formId']\n",
        "\n",
        "  result = forms_service.forms().batchUpdate(\n",
        "      formId=form_id,\n",
        "      body={'requests': [\n",
        "          {\n",
        "              'updateFormInfo': {\n",
        "                  'info': {\n",
        "                      'description': description\n",
        "                  },\n",
        "                  'updateMask': 'description'\n",
        "              }\n",
        "          }\n",
        "      ]}\n",
        "  ).execute()\n",
        "\n",
        "  return form_id\n",
        "\n",
        "class ChoiceQuestion:\n",
        "  def __init__(self, form_type, title):\n",
        "    self.form_type = form_type\n",
        "    self.title = title\n",
        "    self.required = False\n",
        "    self.options = []\n",
        "    self.has_other = False\n",
        "    self.shuffle = False\n",
        "\n",
        "  def add_options(self, values):\n",
        "    for v in values:\n",
        "      if v == 'OTHER':\n",
        "        self.add_other_option()\n",
        "      else:\n",
        "        self.options.append({'value': v})\n",
        "    return self\n",
        "\n",
        "  def add_option(self, value):\n",
        "    self.options.append({'value': value})\n",
        "    return self\n",
        "\n",
        "  def add_other_option(self):\n",
        "    self.has_other = True\n",
        "    self.options.append({'is_other': True})\n",
        "    return self\n",
        "\n",
        "  def set_required(self):\n",
        "    self.required = True\n",
        "    return self\n",
        "\n",
        "  def set_shuffle(self):\n",
        "    self.shuffle = True\n",
        "    return self\n",
        "\n",
        "  def build_request(self):\n",
        "    if len(self.options) == 0:\n",
        "      raise Exception('No options added')\n",
        "\n",
        "    return {\n",
        "        \"title\": self.title,\n",
        "        \"questionItem\": {\n",
        "            \"question\": {\n",
        "                \"required\": self.required,\n",
        "                \"choiceQuestion\": {\n",
        "                    \"type\": self.form_type,\n",
        "                    \"shuffle\": self.shuffle,\n",
        "                    \"options\": self.options\n",
        "                }\n",
        "            }\n",
        "        }\n",
        "    }\n",
        "\n",
        "class RadiobuttonQuestion(ChoiceQuestion):\n",
        "  def __init__(self, title):\n",
        "    ChoiceQuestion.__init__(self, 'RADIO', title)\n",
        "\n",
        "class CheckboxQuestion(ChoiceQuestion):\n",
        "  def __init__(self, title):\n",
        "    ChoiceQuestion.__init__(self, 'CHECKBOX', title)\n",
        "\n",
        "class Section:\n",
        "  def __init__(self, title):\n",
        "    self.title = title\n",
        "\n",
        "  def build_request(self):\n",
        "    return {\n",
        "        \"title\": self.title,\n",
        "        \"pageBreakItem\": {}\n",
        "    }\n",
        "\n",
        "class Form:\n",
        "  def __init__(self, title, description):\n",
        "    self.form_id = None\n",
        "    self.title = title\n",
        "    self.description = description\n",
        "    self.items = []\n",
        "\n",
        "  def get_form_url(self):\n",
        "    if not self.form_id:\n",
        "      raise Exception('Form not saved')\n",
        "\n",
        "    return f'https://docs.google.com/forms/d/{self.form_id}/edit'\n",
        "\n",
        "  def add_item(self, item):\n",
        "    if self.form_id:\n",
        "      raise Exception('Form already saved')\n",
        "\n",
        "    self.items.append(item)\n",
        "\n",
        "  def save(self):\n",
        "    if self.form_id:\n",
        "      raise Exception('Form already saved')\n",
        "\n",
        "    self.form_id = create_form(self.title, self.description)\n",
        "    for location, item in enumerate(self.items):\n",
        "      try:\n",
        "        request = {\n",
        "                    \"createItem\": {\n",
        "                        \"item\": item,\n",
        "                        \"location\": {\n",
        "                            \"index\": location\n",
        "                        }\n",
        "                    }\n",
        "                }\n",
        "        result = forms_service.forms().batchUpdate(\n",
        "            formId=self.form_id,\n",
        "            body={'requests': [request]}\n",
        "        ).execute()\n",
        "      except Exception as e:\n",
        "        print(e)\n",
        "        print(request)\n",
        "        break\n"
      ],
      "metadata": {
        "id": "VuA6JRtN4mBE"
      },
      "execution_count": 37,
      "outputs": []
    },
    {
      "cell_type": "code",
      "source": [
        "#@title Load file from YAML\n",
        "\n",
        "def clean_and_load_yaml(filename):\n",
        "    with open(filename, 'r') as file:\n",
        "        content = file.read()\n",
        "\n",
        "    # Remove invalid YAML characters using a regular expression.\n",
        "    cleaned_content = re.sub(r\"[^\\w\\s.,;:'\\\"!?]\", \"\", content)\n",
        "    content_without_comments = re.sub(r\"#.*\", \"\", content)\n",
        "\n",
        "    try:\n",
        "        # Load the cleaned YAML content into a Python object.\n",
        "        data = yaml.safe_load(content_without_comments)\n",
        "        return data\n",
        "    except yaml.YAMLError as exc:\n",
        "        print(f\"Error parsing YAML: {exc}\")\n",
        "        return None\n",
        "\n",
        "# Example usage:\n",
        "filename = '/content/emotions.yaml'\n",
        "sections = clean_and_load_yaml(filename)"
      ],
      "metadata": {
        "id": "DI07IpI39m_4"
      },
      "execution_count": 39,
      "outputs": []
    },
    {
      "cell_type": "code",
      "source": [
        "#@title Create emotions form\n",
        "\n",
        "TITLE = 'Emotion words analysis'  #@param\n",
        "DESCRIPTION = 'Collecting words and feelings that contribute to emotions'  #@param\n",
        "INITIAL_QUESTION_TITLE = 'Choose one of the emotions above or a random number: https://www.google.com/search?q=random+number+between+1+and+10&oq=random+number+between+1+and+10'\n",
        "\n",
        "form = Form(TITLE, DESCRIPTION)\n",
        "\n",
        "form.add_item(\n",
        "    RadiobuttonQuestion(INITIAL_QUESTION_TITLE)\n",
        "        .set_required()\n",
        "        .add_options([str(p + 1) + ': ' + s['name'] for p, s in enumerate(sections)])\n",
        "        .build_request())\n",
        "\n",
        "for section in sections:\n",
        "  emotion = section['name']\n",
        "  form.add_item(Section(emotion).build_request())\n",
        "  words = section['words']\n",
        "  form.add_item(\n",
        "      CheckboxQuestion(f'Words for {emotion}')\n",
        "          .set_required()\n",
        "          .set_shuffle()\n",
        "          .add_options(words)\n",
        "          .build_request())\n",
        "\n",
        "  for question in section['questions']:\n",
        "    title = question['title']\n",
        "    options = question['options']\n",
        "    form.add_item(\n",
        "        CheckboxQuestion(title)\n",
        "            .set_required()\n",
        "            .add_options(options)\n",
        "            .build_request())\n",
        "\n",
        "form.save()\n",
        "print(form.get_form_url())"
      ],
      "metadata": {
        "colab": {
          "base_uri": "https://localhost:8080/"
        },
        "id": "8AxZtQ1CQyXB",
        "outputId": "3e9688d0-0786-4a0b-c606-89cff831c7b9"
      },
      "execution_count": 50,
      "outputs": [
        {
          "output_type": "stream",
          "name": "stdout",
          "text": [
            "https://docs.google.com/forms/d/1A-oGalJoiSerJrWL6XYfcDQ7RTyqEziBAqelrzq_Lzw/edit\n"
          ]
        }
      ]
    }
  ]
}